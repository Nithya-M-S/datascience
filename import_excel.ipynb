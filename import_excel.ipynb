{
  "nbformat": 4,
  "nbformat_minor": 0,
  "metadata": {
    "colab": {
      "provenance": [],
      "gpuType": "T4",
      "authorship_tag": "ABX9TyOET4uA0da3f71o3pB28U4p"
    },
    "kernelspec": {
      "name": "python3",
      "display_name": "Python 3"
    },
    "language_info": {
      "name": "python"
    },
    "accelerator": "GPU"
  },
  "cells": [
    {
      "cell_type": "code",
      "execution_count": 1,
      "metadata": {
        "id": "4WGJQuTuviUs"
      },
      "outputs": [],
      "source": [
        "import pandas as pd"
      ]
    },
    {
      "cell_type": "code",
      "source": [
        "pd.read_excel('abc.xlsx')#its just sample i dont have dataset of it and as two sheets"
      ],
      "metadata": {
        "id": "TsjUW1_lW9Ua"
      },
      "execution_count": null,
      "outputs": []
    },
    {
      "cell_type": "code",
      "source": [
        "#if i want 2nd sheet data then use this code\n",
        "pd.read_excel('abc.xlsx',sheet_name='Sheet2')"
      ],
      "metadata": {
        "id": "5eY1ZjunXJZ3"
      },
      "execution_count": null,
      "outputs": []
    },
    {
      "cell_type": "code",
      "source": [
        "#read the document pandas read_excel"
      ],
      "metadata": {
        "id": "1rn_3zHBXUxV"
      },
      "execution_count": null,
      "outputs": []
    },
    {
      "cell_type": "code",
      "source": [],
      "metadata": {
        "id": "_AYj3MscXhAA"
      },
      "execution_count": null,
      "outputs": []
    }
  ]
}