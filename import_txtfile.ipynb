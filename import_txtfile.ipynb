{
  "nbformat": 4,
  "nbformat_minor": 0,
  "metadata": {
    "colab": {
      "provenance": [],
      "gpuType": "T4",
      "authorship_tag": "ABX9TyPn0Ugeza/j4tDBKuvb03mM"
    },
    "kernelspec": {
      "name": "python3",
      "display_name": "Python 3"
    },
    "language_info": {
      "name": "python"
    },
    "accelerator": "GPU"
  },
  "cells": [
    {
      "cell_type": "code",
      "source": [
        "#have to check which format is there in data(data visulaztion)\n",
        "pd.read_csv('abc.txt')"
      ],
      "metadata": {
        "id": "nhgCuUTMX0fz"
      },
      "execution_count": null,
      "outputs": []
    },
    {
      "cell_type": "code",
      "source": [
        "pd.read_csv('abc.txt',sep='\\t')"
      ],
      "metadata": {
        "id": "HGlD9oOxtPK7"
      },
      "execution_count": null,
      "outputs": []
    },
    {
      "cell_type": "code",
      "source": [],
      "metadata": {
        "id": "BELwZLqxtV2a"
      },
      "execution_count": null,
      "outputs": []
    }
  ]
}